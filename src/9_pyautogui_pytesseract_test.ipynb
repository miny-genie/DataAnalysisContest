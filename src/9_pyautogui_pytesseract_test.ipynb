{
 "cells": [
  {
   "cell_type": "code",
   "execution_count": 49,
   "id": "86b21ed8",
   "metadata": {},
   "outputs": [],
   "source": [
    "# 명령 프롬프트(cmd)에서 pyautogui와 pytesseract, pytesseract-kor 설치\n",
    "# anaconda 프롬프트에서는  pytesseract 미지원\n",
    "\n",
    "# # Pytesseract OSbit에 맞춰 직접 다운로드하기\n",
    "# # 경로: C:\\Users\\{user}\\AppData\\Local\\Tesseract-OCR\n",
    "# # 다운로드 후 PATH 설정하기\n",
    "# https://github.com/UB-Mannheim/tesseract/wiki\n",
    "    \n",
    "# # 한국어 데이터셋 활용 시 필요한 kor.traineddata\n",
    "# # 다운로드 후 C:\\Users\\{user}\\AppData\\Local\\Tesseract-OCR\\tessdata에 넣기\n",
    "# https://github.com/tesseract-ocr/tessdata/blob/main/kor.traineddata\n",
    "\n",
    "# # CMD PROMPT INSTALL COMMAND\n",
    "# !pip3 install pyautogui\n",
    "# !pip3 install pytesseract pytesseract-kor\n",
    "\n",
    "# # HOW TO FINDINSTALLED MODULE\n",
    "# pip3 list\n",
    "# pip3 list | findstr {include-text}"
   ]
  },
  {
   "cell_type": "code",
   "execution_count": 50,
   "id": "d4fa3582",
   "metadata": {},
   "outputs": [],
   "source": [
    "import pyautogui as pyg\n",
    "import pytesseract as pyt\n",
    "from PIL import Image"
   ]
  },
  {
   "cell_type": "code",
   "execution_count": 73,
   "id": "974afbd7",
   "metadata": {},
   "outputs": [
    {
     "data": {
      "text/plain": [
       "Point(x=792, y=746)"
      ]
     },
     "execution_count": 73,
     "metadata": {},
     "output_type": "execute_result"
    }
   ],
   "source": [
    "# 현재 마우스 커서 좌표 값 가져오기\n",
    "# 캡쳐할 영역의 첫 번째 좌표\n",
    "fir_x, fir_y = pyg.position()\n",
    "pyg.position()"
   ]
  },
  {
   "cell_type": "code",
   "execution_count": 74,
   "id": "bb9b32da",
   "metadata": {},
   "outputs": [
    {
     "data": {
      "text/plain": [
       "Point(x=994, y=825)"
      ]
     },
     "execution_count": 74,
     "metadata": {},
     "output_type": "execute_result"
    }
   ],
   "source": [
    "# 현재 마우스 커서 좌표 값 가져오기\n",
    "# 캡쳐할 영역의 두 번째 좌표\n",
    "sec_x, sec_y = pyg.position()\n",
    "pyg.position()"
   ]
  },
  {
   "cell_type": "code",
   "execution_count": 75,
   "id": "4c3cf4db",
   "metadata": {},
   "outputs": [
    {
     "data": {
      "image/png": "[encoded data removed]",
      "text/plain": [
       "<PIL.Image.Image image mode=RGB size=202x79>"
      ]
     },
     "execution_count": 75,
     "metadata": {},
     "output_type": "execute_result"
    }
   ],
   "source": [
    "# 스크린샷 좌표 설정하기\n",
    "pos = (fir_x, fir_y, sec_x, sec_y)\n",
    "size_x = pos[2] - pos[0]\n",
    "size_y = pos[3] - pos[1]\n",
    "\n",
    "# 스크린샷 찍기\n",
    "img = pyg.screenshot(region=(\n",
    "    pos[0],\n",
    "    pos[1],\n",
    "    size_x,\n",
    "    size_y\n",
    "))\n",
    "\n",
    "# 스크린샷 이미지 출력하기\n",
    "img"
   ]
  },
  {
   "cell_type": "code",
   "execution_count": 76,
   "id": "cd87b6dc",
   "metadata": {},
   "outputs": [],
   "source": [
    "# Pytesseract PATH 인식 경로 설정하기\n",
    "pyt.pytesseract.tesseract_cmd = r'C:\\Users\\kjmin\\AppData\\Local\\Tesseract-OCR\\tesseract.exe'"
   ]
  },
  {
   "cell_type": "code",
   "execution_count": 77,
   "id": "580cfe92",
   "metadata": {},
   "outputs": [
    {
     "name": "stdout",
     "output_type": "stream",
     "text": [
      "사 진 찍 어 서\n",
      "글 뽑 는 사 이 트 에 서 뽑 고\n",
      "90 한 테 물 어 보 는 거 라\n",
      "\n"
     ]
    }
   ],
   "source": [
    "# 스크린샷을 image_to_string으로 문자화하기\n",
    "data = pyt.image_to_string(img, lang='kor+eng')\n",
    "\n",
    "# 문자열 출력하기\n",
    "print(data)"
   ]
  },
  {
   "cell_type": "code",
   "execution_count": null,
   "id": "5389b4d0",
   "metadata": {},
   "outputs": [],
   "source": []
  }
 ],
 "metadata": {
  "kernelspec": {
   "display_name": "Python 3 (ipykernel)",
   "language": "python",
   "name": "python3"
  },
  "language_info": {
   "codemirror_mode": {
    "name": "ipython",
    "version": 3
   },
   "file_extension": ".py",
   "mimetype": "text/x-python",
   "name": "python",
   "nbconvert_exporter": "python",
   "pygments_lexer": "ipython3",
   "version": "3.11.4"
  }
 },
 "nbformat": 4,
 "nbformat_minor": 5
}
